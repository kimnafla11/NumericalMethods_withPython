{
 "cells": [
  {
   "cell_type": "code",
   "execution_count": null,
   "id": "df0ab4df",
   "metadata": {},
   "outputs": [],
   "source": [
    "# 제 15장 선형연립방정식의 해법\n",
    "# 15.1. 해법의 종류\n",
    "# 1) 간단한 식이면 역행렬을 구해서 해를 구하면 됨\n",
    "# 2) Carmer공식\n",
    "# 3) 직접법(direct methods)\n",
    "# 4) 반복법(iterative methods)"
   ]
  },
  {
   "cell_type": "code",
   "execution_count": null,
   "id": "b3abcb4d",
   "metadata": {},
   "outputs": [],
   "source": [
    "# 15.2. Cramer공식"
   ]
  }
 ],
 "metadata": {
  "kernelspec": {
   "display_name": "Python 3",
   "language": "python",
   "name": "python3"
  },
  "language_info": {
   "codemirror_mode": {
    "name": "ipython",
    "version": 3
   },
   "file_extension": ".py",
   "mimetype": "text/x-python",
   "name": "python",
   "nbconvert_exporter": "python",
   "pygments_lexer": "ipython3",
   "version": "3.8.8"
  }
 },
 "nbformat": 4,
 "nbformat_minor": 5
}
