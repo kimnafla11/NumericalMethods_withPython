{
 "cells": [
  {
   "cell_type": "code",
   "execution_count": null,
   "id": "d8e3a71d",
   "metadata": {},
   "outputs": [],
   "source": [
    "# 제11장 Newton-Raphson방법\n",
    "# 11.1. Newton-Raphson방법 : 해설\n",
    "#     해를 근사, 함수의 최고점 최저점을 알기위함\n",
    "# 방정식f(x)의 근을 구할때 뉴튼랩슨방법에서는 초기값을 예측하여 사용함\n",
    "# f(x+1) = f(x+h) -> 0\n",
    "# 초기의 점의 접선을 구할 수 있다.-> 이 직선의 해를 구함 -> 그 지점에서의 접선을 구함 -> 무진장 반복해\n",
    "# 1차함수로 근사한 뒤, 해를 찾는 방식을 반복해\n",
    "\n",
    "# 그를 위해 특정점을 기준으로 함수를 다항함수로 근사시킴\n",
    "# 1차함수로 근사한 식을 0이 되도록\n",
    "\n",
    "#다른 알고리즘에 비해서 빠른 수렴"
   ]
  },
  {
   "cell_type": "code",
   "execution_count": 65,
   "id": "3f258bf2",
   "metadata": {},
   "outputs": [
    {
     "name": "stdout",
     "output_type": "stream",
     "text": [
      "[0. 0. 0. 0. 0. 0. 0.]\n",
      "    k x\n",
      "    1   -2.0000\n",
      "    2    0.1000\n",
      "    3    0.8603\n",
      "    4    0.9954\n",
      "    5    1.0000\n",
      "    6    1.0000\n",
      "    7    1.0000\n"
     ]
    }
   ],
   "source": [
    "import numpy as np\n",
    "def f(x):\n",
    "    return -x**2 + 6.0*x -5.0\n",
    "def df(x):\n",
    "    return -2.0*x + 6.0\n",
    "n = 7 #반복횟수\n",
    "x = np.zeros(n) #0으로 구성된 1x7벡터 만듦\n",
    "print(x)\n",
    "x[0] = -2.0\n",
    "\n",
    "for k in range(n-1):\n",
    "    x[k+1] = x[k] -f(x[k])/df(x[k])\n",
    "\n",
    "print(\"%5s %s\" %('k','x'))\n",
    "for k in range(n):\n",
    "    print(\"%5d %9.4f\" %(k+1,x[k]))\n",
    "\n"
   ]
  },
  {
   "cell_type": "code",
   "execution_count": 87,
   "id": "b8cee50c",
   "metadata": {},
   "outputs": [
    {
     "name": "stdout",
     "output_type": "stream",
     "text": [
      "3\n",
      "2.0\n"
     ]
    }
   ],
   "source": [
    "import sympy as sp\n",
    "\n",
    "x = sp.symbols('x')\n",
    "fx = x**2 - 4\n",
    "dfx = sp.diff(fx)\n",
    "\n",
    "x_init = +5\n",
    "Tolerance = 1e-6\n",
    "\n",
    "x_tmp = x_init\n",
    "i=0\n",
    "\n",
    "while True:\n",
    "    i+=1\n",
    "    \n",
    "    x_numeric = float(x_tmp)-float(fx.subs(x,x_tmp))/float(fx.subs(x,x_tmp))\n",
    "    \n",
    "    NR_error = fx.subs(x,x_numeric)\n",
    "    \n",
    "    if NR_error <= Tolerance:\n",
    "        break\n",
    "    x_tmp=x_numeric\n",
    "\n",
    "\n",
    "print(str(i))\n",
    "print(x_numeric)"
   ]
  },
  {
   "cell_type": "code",
   "execution_count": null,
   "id": "20c92283",
   "metadata": {},
   "outputs": [],
   "source": []
  }
 ],
 "metadata": {
  "kernelspec": {
   "display_name": "Python 3",
   "language": "python",
   "name": "python3"
  },
  "language_info": {
   "codemirror_mode": {
    "name": "ipython",
    "version": 3
   },
   "file_extension": ".py",
   "mimetype": "text/x-python",
   "name": "python",
   "nbconvert_exporter": "python",
   "pygments_lexer": "ipython3",
   "version": "3.8.8"
  }
 },
 "nbformat": 4,
 "nbformat_minor": 5
}
