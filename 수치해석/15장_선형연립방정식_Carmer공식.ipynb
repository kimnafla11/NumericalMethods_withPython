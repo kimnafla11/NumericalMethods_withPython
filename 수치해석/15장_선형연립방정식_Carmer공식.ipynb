{
 "cells": [
  {
   "cell_type": "markdown",
   "id": "611e49cb",
   "metadata": {},
   "source": [
    "제 15장 선형연립방정식의 해법\n",
    "15.1. 해법의 종류\n",
    "1) 간단한 식이면 역행렬을 구해서 해를 구하면 됨\n",
    "2) Carmer공식\n",
    "3) 직접법(direct methods)\n",
    "4) 반복법(iterative methods)"
   ]
  },
  {
   "cell_type": "code",
   "execution_count": 4,
   "id": "d31e3e68",
   "metadata": {},
   "outputs": [
    {
     "name": "stdout",
     "output_type": "stream",
     "text": [
      "|A| =  -43.99999999999999  |A1| =  10.000000000000002  |A2| =  22.000000000000004  |A3| =  -25.99999999999999\n",
      "x1 =  -0.22727272727272735  x2 =  -0.5000000000000001  x3 =  0.5909090909090907\n"
     ]
    }
   ],
   "source": [
    "# 2) Carmer공식\n",
    "# AX = b 선형방정식 근을 구할 때\n",
    "\n",
    "import numpy as np\n",
    "\n",
    "a = np.array([[4,1,-1],[3,-1,2],[-1,2,3]])\n",
    "b = np.array([-2,1,1])\n",
    "\n",
    "a1 = np.array([[-2,1,-1],[1,-1,2],[1,2,3]]) # detA1 구하려고 일단 이 행렬 만듦\n",
    "a2 = np.array([[4,-2,-1],[3,1,2],[-1,1,3]])\n",
    "a3 = np.array([[4,1,-2],[3,-1,1],[-1,2,1]])\n",
    "\n",
    "detA = np.linalg.det(a) # 행렬식을 계산하기 위한 함수 det을 사용하기 위해서 linalg라이브러리 씀\n",
    "detA1 = np.linalg.det(a1) # 행렬식 계산\n",
    "detA2 = np.linalg.det(a2)\n",
    "detA3 = np.linalg.det(a3)\n",
    "\n",
    "print(\"|A| = \",detA, \" |A1| = \",detA1,\" |A2| = \", detA2, \" |A3| = \", detA3)\n",
    "\n",
    "x1 = detA1/detA # x 근 구함\n",
    "x2 = detA2/detA\n",
    "x3 = detA3/detA\n",
    "\n",
    "print(\"x1 = \",x1, \" x2 = \",x2,\" x3 = \",x3)"
   ]
  }
 ],
 "metadata": {
  "kernelspec": {
   "display_name": "Python 3",
   "language": "python",
   "name": "python3"
  },
  "language_info": {
   "codemirror_mode": {
    "name": "ipython",
    "version": 3
   },
   "file_extension": ".py",
   "mimetype": "text/x-python",
   "name": "python",
   "nbconvert_exporter": "python",
   "pygments_lexer": "ipython3",
   "version": "3.8.8"
  }
 },
 "nbformat": 4,
 "nbformat_minor": 5
}
