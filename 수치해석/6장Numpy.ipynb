{
 "cells": [
  {
   "cell_type": "code",
   "execution_count": 5,
   "id": "8731c741",
   "metadata": {},
   "outputs": [
    {
     "name": "stdout",
     "output_type": "stream",
     "text": [
      "[0 1 2 3 4]\n",
      "[0 1 2 3 4]\n",
      "5\n"
     ]
    }
   ],
   "source": [
    "#Numpy는 다차원배열을 처리하는데 필요한 기능을 제공한다\n",
    "# 수치해석에는 행렬을 사용하는 연산이 중요하기때매 배열에 특화되어있는 Numpy 라이브러리 사용법이 중요하다\n",
    "\n",
    "from numpy import array\n",
    "#Numpy라이브러리중 array함수만을 불러오기\n",
    "\n",
    "# 6.3. 벡터와 행렬 만들기\n",
    "alist = [0,1,2,3,4]\n",
    "yvector = array(alist)\n",
    "avector = array([0,1,2,3,4])\n",
    "print(yvector)\n",
    "print(avector)\n",
    "print(len(avector))"
   ]
  },
  {
   "cell_type": "code",
   "execution_count": 6,
   "id": "5c5fc34e",
   "metadata": {},
   "outputs": [
    {
     "name": "stdout",
     "output_type": "stream",
     "text": [
      "(3, 3)\n"
     ]
    }
   ],
   "source": [
    "amat = array([[0,1,2],[3,4,5],[6,7,8]])\n",
    "print(amat.shape) #array함수를 사용하여 3x3행렬을 만듦\n",
    "#.shape는 해당되는 배열의 구조를 알려준다"
   ]
  },
  {
   "cell_type": "code",
   "execution_count": 1,
   "id": "49105eaf",
   "metadata": {},
   "outputs": [
    {
     "name": "stdout",
     "output_type": "stream",
     "text": [
      "[0 1 2 3 4]\n",
      "[0 3 6 9]\n"
     ]
    }
   ],
   "source": [
    "# 6.4. arange/linspace함수\n",
    "# 벡터나 배열을 자동으로 만들어주는 arange/linspace\n",
    "from numpy import arange\n",
    "brange = arange(5) #0부터 5-1까지 1씩 증가하는 배열\n",
    "crange = arange(0,10,3) #0부터 10까지 3씩 증가하는 배열\n",
    "print(brange) # [0 1 2 3 4]\n",
    "print(crange) # [0 3 6 9]"
   ]
  },
  {
   "cell_type": "code",
   "execution_count": 2,
   "id": "d2ce0e03",
   "metadata": {},
   "outputs": [
    {
     "name": "stdout",
     "output_type": "stream",
     "text": [
      "[0.   0.25 0.5  0.75 1.  ]\n"
     ]
    }
   ],
   "source": [
    "from numpy import linspace\n",
    "aspace = linspace(0,1,5) #0부터 1까지 등간격(0.25)의 요소 5개 배열\n",
    "print(aspace)"
   ]
  },
  {
   "cell_type": "code",
   "execution_count": 3,
   "id": "c515a72a",
   "metadata": {},
   "outputs": [
    {
     "name": "stdout",
     "output_type": "stream",
     "text": [
      "ones =  [[1. 1. 1.]\n",
      " [1. 1. 1.]\n",
      " [1. 1. 1.]]\n",
      "zeros =  [[0. 0. 0.]\n",
      " [0. 0. 0.]\n",
      " [0. 0. 0.]]\n",
      "eye =  [[1. 0. 0.]\n",
      " [0. 1. 0.]\n",
      " [0. 0. 1.]]\n"
     ]
    }
   ],
   "source": [
    "# 6.5. ones/zeros/eye 함수\n",
    "from numpy import ones, zeros, eye\n",
    "aones = ones((3,3)) # 1로 가득찬 3x3배열 (row, col)\n",
    "azeros = zeros((3,3)) # 0으로 가득찬 3x3배열 (row, col)\n",
    "aeye = eye(3) # 대각요소만 1인 3x3배열\n",
    "print('ones = ',aones)\n",
    "print('zeros = ',azeros)\n",
    "print('eye = ',aeye)"
   ]
  },
  {
   "cell_type": "code",
   "execution_count": 6,
   "id": "2ff88811",
   "metadata": {},
   "outputs": [
    {
     "name": "stdout",
     "output_type": "stream",
     "text": [
      "[[ 0  3  5]\n",
      " [ 9  9  8]\n",
      " [10  9  7]]\n",
      "[[ 2  1  1]\n",
      " [-1  1  4]\n",
      " [ 4  7 11]]\n"
     ]
    }
   ],
   "source": [
    "# 6.6. 행렬 연산 덧셈 뺄셈\n",
    "from numpy import array\n",
    "A = array([[1,2,3],[4,5,6],[7,8,9]])\n",
    "B = array([[-1,1,2],[5,4,2],[3,1,-2]])\n",
    "madd = A+B\n",
    "msub = A-B\n",
    "print(madd)\n",
    "print(msub)"
   ]
  },
  {
   "cell_type": "code",
   "execution_count": 7,
   "id": "fc4246df",
   "metadata": {},
   "outputs": [
    {
     "name": "stdout",
     "output_type": "stream",
     "text": [
      "A*10 =  [[10. 20. 30.]\n",
      " [40. 50. 60.]\n",
      " [70. 80. 90.]]\n",
      "A/2 =  [[0.5 1.  1.5]\n",
      " [2.  2.5 3. ]\n",
      " [3.5 4.  4.5]]\n"
     ]
    }
   ],
   "source": [
    "# 행렬에 스칼라수를 곱하거나 나누는 연산\n",
    "from numpy import array\n",
    "A = array([[1,2,3],[4,5,6],[7,8,9]])\n",
    "mult = A * 10.0\n",
    "divi = A/2.0\n",
    "print('A*10 = ',mult)\n",
    "print('A/2 = ',divi)"
   ]
  },
  {
   "cell_type": "code",
   "execution_count": 9,
   "id": "8b000fbf",
   "metadata": {},
   "outputs": [
    {
     "name": "stdout",
     "output_type": "stream",
     "text": [
      "11\n"
     ]
    }
   ],
   "source": [
    "# 6.7. 내적과 행렬곱\n",
    "# 내적 : 두벡터 성분을 곱하여 합산한 것\n",
    "\n",
    "# Numpy에서 벡터의 내적은 dot함수가 있음\n",
    "\n",
    "from numpy import array\n",
    "a = array([1,2])\n",
    "b = array([3,4])\n",
    "dots = a.dot(b) # 벡터 내적\n",
    "print(dots)"
   ]
  },
  {
   "cell_type": "code",
   "execution_count": 11,
   "id": "79ce4f2f",
   "metadata": {},
   "outputs": [
    {
     "name": "stdout",
     "output_type": "stream",
     "text": [
      "행렬곱 =  [[ -1   2   6]\n",
      " [ 20  20  12]\n",
      " [ 21   8 -18]]\n",
      "행렬내적 =  [[18 12  0]\n",
      " [39 30  6]\n",
      " [60 48 12]]\n"
     ]
    }
   ],
   "source": [
    "from numpy import array, dot\n",
    "\n",
    "A = array([[1,2,3],[4,5,6],[7,8,9]])\n",
    "B = array([[-1,1,2],[5,4,2],[3,1,-2]])\n",
    "mmt = A*B #행렬끼리 곱하면 배열 각 요소별 곱으로 표현됨\n",
    "dotp = A.dot(B) #dot함수로 찐 행렬곱으로 나타난다\n",
    "print('행렬곱 = ',mmt)\n",
    "print('행렬내적 = ',dotp)"
   ]
  },
  {
   "cell_type": "code",
   "execution_count": 12,
   "id": "4f23336f",
   "metadata": {},
   "outputs": [
    {
     "name": "stdout",
     "output_type": "stream",
     "text": [
      "a[1]= 2\n",
      "a[3]= 4\n",
      "a[-1]= 5\n"
     ]
    }
   ],
   "source": [
    "# 6.8. 인덱싱/슬라이싱\n",
    "# 인덱싱\n",
    "from numpy import array\n",
    "a = array([1,2,3,4,5])\n",
    "print('a[1]=',a[1]) #2\n",
    "print('a[3]=',a[3]) #4\n",
    "print('a[-1]=',a[-1]) #뒤에서부터 5"
   ]
  },
  {
   "cell_type": "code",
   "execution_count": 13,
   "id": "d89cae1c",
   "metadata": {},
   "outputs": [
    {
     "name": "stdout",
     "output_type": "stream",
     "text": [
      "5\n",
      "8\n"
     ]
    }
   ],
   "source": [
    "# 2차원 이상의 배열에서의 인덱싱\n",
    "from numpy import array\n",
    "A = array([[1,2,3],[4,5,6],[7,8,9]])\n",
    "print(A[1,1])#5\n",
    "print(A[2,1])#8"
   ]
  },
  {
   "cell_type": "code",
   "execution_count": 15,
   "id": "d0fc951f",
   "metadata": {},
   "outputs": [
    {
     "name": "stdout",
     "output_type": "stream",
     "text": [
      "a[1:5]= [1 2 3 4]\n",
      "a[:3]= [0 1 2]\n"
     ]
    }
   ],
   "source": [
    "# 슬라이싱\n",
    "from numpy import array\n",
    "a = array([0,1,2,3,4,5,6,7,8])\n",
    "print('a[1:5]=',a[1:5]) #[1,2,3,4] 끝자리 -1이다!!!\n",
    "b = array([0,1,2,3,4,5,6,7,8])\n",
    "print('a[:3]=',a[:3]) #[0,1,2]"
   ]
  },
  {
   "cell_type": "code",
   "execution_count": 20,
   "id": "57b4a5eb",
   "metadata": {},
   "outputs": [
    {
     "name": "stdout",
     "output_type": "stream",
     "text": [
      "[0. 0. 0. 0. 0. 0. 0. 0. 0. 0.]\n",
      "  1.0000 \n",
      "  0.9754 \n",
      "  0.9028 \n",
      "  0.7859 \n",
      "  0.6303 \n",
      "  0.4437 \n",
      "  0.2352 \n",
      "  0.0152 \n",
      " -0.2055 \n",
      " -0.4161 \n",
      "0.9754100853894475\n"
     ]
    }
   ],
   "source": [
    "# 6.9. 벡터화 기법\n",
    "\n",
    "\n",
    "# 벡터화 기법을 사용하지 않은 예시\n",
    "from numpy import linspace, zeros, cos\n",
    "x = linspace(0,2,10) # 0~2까지 등간 10개\n",
    "n = len(x) #10\n",
    "y = zeros(n) #10개의 0이 들어있는 벡터/코사인함수 결과값을 저장할 빈 벡터 선언\n",
    "print(y)\n",
    "\n",
    "for i in range(n): #10번 수행\n",
    "    y[i] = cos(x[i]) #각각의 x값을 cos함수에 넣은것임\n",
    "    print('%8.4f '%y[i])\n"
   ]
  },
  {
   "cell_type": "code",
   "execution_count": 21,
   "id": "c8f8fdfa",
   "metadata": {},
   "outputs": [
    {
     "name": "stdout",
     "output_type": "stream",
     "text": [
      "[ 1.          0.97541009  0.90284967  0.78588726  0.63027505  0.44366602\n",
      "  0.23523757  0.01524018 -0.20550672 -0.41614684]\n"
     ]
    }
   ],
   "source": [
    "# 벡터화 기법을 사용한 예시\n",
    "from numpy import linspace, zeros, cos\n",
    "x = linspace(0,2,10)\n",
    "y = cos(x)\n",
    "print(y)"
   ]
  },
  {
   "cell_type": "code",
   "execution_count": null,
   "id": "62385e57",
   "metadata": {},
   "outputs": [],
   "source": [
    "# 요약\n",
    "# 1. Numpy 라이브러리를 사용해서 벡터나 행렬을 만들 때에는\n",
    "#     from numpy import array 와 같이 선언하여 array함수를 사용한다\n",
    "# 2. 요소의 수가 정해진 배열을 자동으로 만들고 싶을 때는 linspace\n",
    "#     x = linspace(-1,1,10) -1~1사이의 10개 요소가 등간으로 들어감\n",
    "# 3. 내적은 dot함수/ 행렬곱은 A*B => 둘이 결과물이 다르므로 주의\n",
    "# 4. 인덱싱, 슬라이싱 가능"
   ]
  }
 ],
 "metadata": {
  "kernelspec": {
   "display_name": "Python 3",
   "language": "python",
   "name": "python3"
  },
  "language_info": {
   "codemirror_mode": {
    "name": "ipython",
    "version": 3
   },
   "file_extension": ".py",
   "mimetype": "text/x-python",
   "name": "python",
   "nbconvert_exporter": "python",
   "pygments_lexer": "ipython3",
   "version": "3.8.8"
  }
 },
 "nbformat": 4,
 "nbformat_minor": 5
}
