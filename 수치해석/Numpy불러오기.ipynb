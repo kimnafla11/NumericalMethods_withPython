{
 "cells": [
  {
   "cell_type": "code",
   "execution_count": 5,
   "id": "8731c741",
   "metadata": {},
   "outputs": [
    {
     "name": "stdout",
     "output_type": "stream",
     "text": [
      "[0 1 2 3 4]\n",
      "[0 1 2 3 4]\n",
      "5\n"
     ]
    }
   ],
   "source": [
    "from numpy import array\n",
    "#Numpy라이브러리중 array함수만을 불러오기\n",
    "\n",
    "alist = [0,1,2,3,4]\n",
    "yvector = array(alist)\n",
    "avector = array([0,1,2,3,4])\n",
    "print(yvector)\n",
    "print(avector)\n",
    "print(len(avector))"
   ]
  },
  {
   "cell_type": "code",
   "execution_count": 6,
   "id": "5c5fc34e",
   "metadata": {},
   "outputs": [
    {
     "name": "stdout",
     "output_type": "stream",
     "text": [
      "(3, 3)\n"
     ]
    }
   ],
   "source": [
    "amat = array([[0,1,2],[3,4,5],[6,7,8]])\n",
    "print(amat.shape) #array함수를 사용하여 3x3행렬을 만듦\n",
    "#.shape는 해당되는 배열의 구조를 알려준다"
   ]
  }
 ],
 "metadata": {
  "kernelspec": {
   "display_name": "Python 3",
   "language": "python",
   "name": "python3"
  },
  "language_info": {
   "codemirror_mode": {
    "name": "ipython",
    "version": 3
   },
   "file_extension": ".py",
   "mimetype": "text/x-python",
   "name": "python",
   "nbconvert_exporter": "python",
   "pygments_lexer": "ipython3",
   "version": "3.8.8"
  }
 },
 "nbformat": 4,
 "nbformat_minor": 5
}
